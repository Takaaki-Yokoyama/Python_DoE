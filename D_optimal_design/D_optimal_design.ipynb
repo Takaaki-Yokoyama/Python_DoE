{
 "cells": [
  {
   "cell_type": "markdown",
   "metadata": {},
   "source": [
    "# ライブラリのインポート"
   ]
  },
  {
   "cell_type": "code",
   "execution_count": 54,
   "metadata": {},
   "outputs": [],
   "source": [
    "import pandas as pd\n",
    "import numpy as np\n",
    "from numpy import matlib"
   ]
  },
  {
   "cell_type": "markdown",
   "metadata": {},
   "source": [
    "# サンプル候補の生成"
   ]
  },
  {
   "cell_type": "code",
   "execution_count": 55,
   "metadata": {},
   "outputs": [],
   "source": [
    "number_of_generating_samples = 10000  # 生成するサンプル数\n",
    "desired_sum_of_components = 1 # 合計を指定する特徴量がある場合の、合計の値。例えば、この値を 100 にすれば、合計を 100 にできます\n",
    "\n",
    "setting_of_generation = pd.read_csv('setting_of_generation.csv', index_col=0, header=0)\n",
    "\n",
    "# 0 から 1 の間の一様乱数でサンプル生成\n",
    "x_generated = np.random.rand(number_of_generating_samples, setting_of_generation.shape[1])\n",
    "\n",
    "# 上限・下限の設定\n",
    "x_upper = setting_of_generation.iloc[0, :]  # 上限値\n",
    "x_lower = setting_of_generation.iloc[1, :]  # 下限値\n",
    "x_generated = x_generated * (x_upper.values - x_lower.values) + x_lower.values  # 上限値から下限値までの間に変換\n",
    "\n",
    "# 合計を desired_sum_of_components にする特徴量がある場合\n",
    "if setting_of_generation.iloc[2, :].sum() != 0:\n",
    "    for group_number in range(1, int(setting_of_generation.iloc[2, :].max()) + 1):\n",
    "        variable_numbers = np.where(setting_of_generation.iloc[2, :] == group_number)[0]\n",
    "        actual_sum_of_components = x_generated[:, variable_numbers].sum(axis=1)\n",
    "        actual_sum_of_components_converted = np.matlib.repmat(np.reshape(actual_sum_of_components, (x_generated.shape[0], 1)) , 1, len(variable_numbers))\n",
    "        x_generated[:, variable_numbers] = x_generated[:, variable_numbers] / actual_sum_of_components_converted * desired_sum_of_components\n",
    "        deleting_sample_numbers, _ = np.where(x_generated > x_upper.values)\n",
    "        x_generated = np.delete(x_generated, deleting_sample_numbers, axis=0)\n",
    "        deleting_sample_numbers, _ = np.where(x_generated < x_lower.values)\n",
    "        x_generated = np.delete(x_generated, deleting_sample_numbers, axis=0)\n",
    "\n",
    "# 数値の丸め込みをする場合\n",
    "if setting_of_generation.shape[0] >= 4:\n",
    "    for variable_number in range(x_generated.shape[1]):\n",
    "        x_generated[:, variable_number] = np.round(x_generated[:, variable_number], int(setting_of_generation.iloc[3, variable_number]))\n",
    "\n",
    "# 保存\n",
    "x_generated = pd.DataFrame(x_generated, columns=setting_of_generation.columns)\n",
    "x_generated.to_csv('generated_samples.csv')  # 生成した"
   ]
  },
  {
   "cell_type": "markdown",
   "metadata": {},
   "source": [
    "# D最適基準によるサンプル候補の選定"
   ]
  },
  {
   "cell_type": "code",
   "execution_count": 56,
   "metadata": {},
   "outputs": [
    {
     "name": "stdout",
     "output_type": "stream",
     "text": [
      "                raw material 1  raw material 2  raw material 3  pressure  \\\n",
      "raw material 1        1.000000       -1.000000        0.173479  0.060329   \n",
      "raw material 2       -1.000000        1.000000       -0.173479 -0.060329   \n",
      "raw material 3        0.173479       -0.173479        1.000000 -0.058115   \n",
      "pressure              0.060329       -0.060329       -0.058115  1.000000   \n",
      "time                  0.289715       -0.289715       -0.120124  0.201498   \n",
      "\n",
      "                    time  \n",
      "raw material 1  0.289715  \n",
      "raw material 2 -0.289715  \n",
      "raw material 3 -0.120124  \n",
      "pressure        0.201498  \n",
      "time            1.000000  \n"
     ]
    }
   ],
   "source": [
    "number_of_selecting_samples = 30  # 選択するサンプル数\n",
    "number_of_random_searches = 1000  # ランダムにサンプルを選択して D 最適基準を計算する繰り返し回数\n",
    "\n",
    "x_generated = pd.read_csv('generated_samples.csv', index_col=0, header=0)\n",
    "autoscaled_x_generated = (x_generated - x_generated.mean()) / x_generated.std()\n",
    "\n",
    "# 実験条件の候補のインデックスの作成\n",
    "all_indexes = list(range(x_generated.shape[0]))\n",
    "\n",
    "# D 最適基準に基づくサンプル選択\n",
    "np.random.seed(11) # 乱数を生成するためのシードを固定\n",
    "for random_search_number in range(number_of_random_searches):\n",
    "    # 1. ランダムに候補を選択\n",
    "    new_selected_indexes = np.random.choice(all_indexes, number_of_selecting_samples, replace=False)\n",
    "    new_selected_samples = autoscaled_x_generated.iloc[new_selected_indexes, :]\n",
    "    # 2. D 最適基準を計算\n",
    "    xt_x = np.dot(new_selected_samples.T, new_selected_samples)\n",
    "    d_optimal_value = np.linalg.det(xt_x) \n",
    "    # 3. D 最適基準が前回までの最大値を上回ったら、選択された候補を更新\n",
    "    if random_search_number == 0:\n",
    "        best_d_optimal_value = d_optimal_value.copy()\n",
    "        selected_sample_indexes = new_selected_indexes.copy()\n",
    "    else:\n",
    "        if best_d_optimal_value < d_optimal_value:\n",
    "            best_d_optimal_value = d_optimal_value.copy()\n",
    "            selected_sample_indexes = new_selected_indexes.copy()\n",
    "selected_sample_indexes = list(selected_sample_indexes) # リスト型に変換\n",
    "\n",
    "# 選択されたサンプル、選択されなかったサンプル\n",
    "selected_samples = x_generated.iloc[selected_sample_indexes, :]  # 選択されたサンプル\n",
    "remaining_indexes = np.delete(all_indexes, selected_sample_indexes)  # 選択されなかったサンプルのインデックス\n",
    "remaining_samples = x_generated.iloc[remaining_indexes, :]  # 選択されなかったサンプル\n",
    "\n",
    "# 保存\n",
    "selected_samples.to_csv('selected_samples.csv')  # 選択されたサンプルを csv ファイルに保存。同じ名前のファイルがあるときは上書きされるため注意\n",
    "remaining_samples.to_csv('remaining_samples.csv')  # 選択されなかったサンプルを csv ファイルに保存。同じ名前のファイルがあるときは上書きされるため注意\n",
    "\n",
    "print(selected_samples.corr()) # 相関行列の確認"
   ]
  }
 ],
 "metadata": {
  "kernelspec": {
   "display_name": "sklearn_base",
   "language": "python",
   "name": "python3"
  },
  "language_info": {
   "codemirror_mode": {
    "name": "ipython",
    "version": 3
   },
   "file_extension": ".py",
   "mimetype": "text/x-python",
   "name": "python",
   "nbconvert_exporter": "python",
   "pygments_lexer": "ipython3",
   "version": "3.11.5"
  }
 },
 "nbformat": 4,
 "nbformat_minor": 2
}
